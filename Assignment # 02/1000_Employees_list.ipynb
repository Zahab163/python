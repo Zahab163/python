employee_1= {"employee_id":1,
            "employee_name":"Sony",
            "employee_salary":100000000,
            "employee_designation":"CEO",
            "employee_skills":["python","AI_engineer", "data_scientist","Management","Digital_Marketing"],
            "employee_experience":[
                {"company_Id":1,
                 "designation": "assistant",
                 "salary":100000,
                 "skills":"python, Javascript " },
                {"company_id":2,
                 "designation": "assistant_manager",
                 "salary" :1000000,
                 "skills":"python, AI_engineer, web_development"}

           ]
           }
employee_2 = {"employee_id": 2,
           "employee_name": "Shiza",
           "employee_salary": 100000000,
           "employee_designation": "Manager",
           "employee_skills": ["python", "AI_engineer", "data_scientist", "supervision" ] ,
           "employee_experience": [
               {"company_Id": 1,
                "designation": "assistant",
                "salary": 100000,
                "skills": "python, Javascript "},
               {"company_id": 2,
                "designation": "assistant_manager",
                "salary": 1000000,
                "skills": ["python, AI_engineer, web_development"]}

           ]
           }
# Access the employee_experience list
employee_experience = employee_1["employee_experience"]

# Iterate through each experience entry
for experience in employee_experience:
    # Access the skills for the current experience
    skills_data = experience.get("skills") # Use .get() to handle potential missing key
    if skills_data:
        # If skills is a string, split it and print
        if isinstance(skills_data, str):
            skills_list = [skill.strip() for skill in skills_data.split(',') if skill.strip()]
            print(f"Experience Skills: {', '.join(skills_list)}")
        # If skills is already a list, print its elements
        elif isinstance(skills_data, list):
            print(f"Experience Skills: {', '.join(skills_data)}")
# You can install Faker if you want more realistic data:
!pip install Faker

from faker import Faker
import random

# Initialize Faker
fake = Faker()

def create_employee(employee_id):
    """Creates a dictionary representing a single employee."""
    return {
        "employee_id": employee_id,
        "employee_name": fake.name(),
        "employee_salary": random.randint(50000, 200000),  # Simulate salary range
        "employee_designation": random.choice(["Manager", "Developer", "Analyst", "Designer"]), # Simulate designation
        "employee_skills": random.sample(["python", "java", "SQL", "machine learning", "data analysis", "communication"], k=random.randint(1, 5)), # Simulate skills
        "employee_experience": [
            {"company_id": fake.random_int(min=1, max=10),
             "designation": fake.job(),
             "salary": random.randint(30000, 150000),
             "skills": ", ".join(random.sample(["python", "java", "SQL", "machine learning", "data analysis", "communication"], k=random.randint(1, 3)))}
        ]
    }

# Create a list of 100 employees
employee_list = [create_employee(i) for i in range(1, 1001)]

# To see the generated list:
# print(employee_list)

employee_list[0]

for employee in employee_list[0:1001]:
 print(employee)


